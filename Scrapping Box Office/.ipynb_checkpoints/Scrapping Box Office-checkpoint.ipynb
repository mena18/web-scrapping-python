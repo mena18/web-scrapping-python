{
 "cells": [
  {
   "cell_type": "code",
   "execution_count": 70,
   "metadata": {},
   "outputs": [],
   "source": [
    "import requests\n",
    "from bs4 import BeautifulSoup\n",
    "import pandas as pd\n"
   ]
  },
  {
   "cell_type": "code",
   "execution_count": 71,
   "metadata": {},
   "outputs": [],
   "source": [
    "def get_movies_in_year(year):\n",
    "    data = requests.get(f\"https://www.boxofficemojo.com/year/world/{year}/\").text\n",
    "    soup = BeautifulSoup(data,'lxml')\n",
    "    table = soup.find('table')\n",
    "    trs = table.find_all('tr')\n",
    "    head,rows = trs[0],trs[1:]\n",
    "    movies=[]\n",
    "    for row in rows:\n",
    "        tds = row.find_all('td')\n",
    "        name=tds[1].text\n",
    "        new_name = name.replace(' ','+')\n",
    "        trailer = f'https://www.youtube.com/results?search_query={ new_name }+trailer&page=&utm_source=opensearch'\n",
    "        movies.append([name,tds[2].text,year,trailer,0])\n",
    "    return movies"
   ]
  },
  {
   "cell_type": "code",
   "execution_count": 72,
   "metadata": {},
   "outputs": [
    {
     "name": "stdout",
     "output_type": "stream",
     "text": [
      "2020 Finished\n",
      "2019 Finished\n",
      "2018 Finished\n",
      "2017 Finished\n",
      "2016 Finished\n"
     ]
    }
   ],
   "source": [
    "all_movies = []\n",
    "for year in range(2020,2015,-1):\n",
    "    movies = get_movies_in_year(year)\n",
    "    all_movies+=movies\n",
    "    print(f'{year} Finished')\n",
    "\n",
    "all_movies.sort(key = lambda x : -int(x[1].replace('$','').replace(',',\"\")))"
   ]
  },
  {
   "cell_type": "code",
   "execution_count": 73,
   "metadata": {},
   "outputs": [
    {
     "data": {
      "text/plain": [
       "3417"
      ]
     },
     "execution_count": 73,
     "metadata": {},
     "output_type": "execute_result"
    }
   ],
   "source": [
    "len(all_movies)"
   ]
  },
  {
   "cell_type": "code",
   "execution_count": 74,
   "metadata": {},
   "outputs": [],
   "source": [
    "df = pd.DataFrame(all_movies,columns=['name','Worldwide','year','trailer','watched'])"
   ]
  },
  {
   "cell_type": "code",
   "execution_count": 75,
   "metadata": {
    "collapsed": true
   },
   "outputs": [
    {
     "data": {
      "text/html": [
       "<div>\n",
       "<style scoped>\n",
       "    .dataframe tbody tr th:only-of-type {\n",
       "        vertical-align: middle;\n",
       "    }\n",
       "\n",
       "    .dataframe tbody tr th {\n",
       "        vertical-align: top;\n",
       "    }\n",
       "\n",
       "    .dataframe thead th {\n",
       "        text-align: right;\n",
       "    }\n",
       "</style>\n",
       "<table border=\"1\" class=\"dataframe\">\n",
       "  <thead>\n",
       "    <tr style=\"text-align: right;\">\n",
       "      <th></th>\n",
       "      <th>name</th>\n",
       "      <th>Worldwide</th>\n",
       "      <th>year</th>\n",
       "      <th>trailer</th>\n",
       "      <th>watched</th>\n",
       "    </tr>\n",
       "  </thead>\n",
       "  <tbody>\n",
       "    <tr>\n",
       "      <th>0</th>\n",
       "      <td>Avengers: Endgame</td>\n",
       "      <td>$2,797,800,564</td>\n",
       "      <td>2019</td>\n",
       "      <td>https://www.youtube.com/results?search_query=A...</td>\n",
       "      <td>0</td>\n",
       "    </tr>\n",
       "    <tr>\n",
       "      <th>1</th>\n",
       "      <td>Avengers: Infinity War</td>\n",
       "      <td>$2,048,359,754</td>\n",
       "      <td>2018</td>\n",
       "      <td>https://www.youtube.com/results?search_query=A...</td>\n",
       "      <td>0</td>\n",
       "    </tr>\n",
       "    <tr>\n",
       "      <th>2</th>\n",
       "      <td>The Lion King</td>\n",
       "      <td>$1,656,943,394</td>\n",
       "      <td>2019</td>\n",
       "      <td>https://www.youtube.com/results?search_query=T...</td>\n",
       "      <td>0</td>\n",
       "    </tr>\n",
       "    <tr>\n",
       "      <th>3</th>\n",
       "      <td>Frozen II</td>\n",
       "      <td>$1,450,026,933</td>\n",
       "      <td>2019</td>\n",
       "      <td>https://www.youtube.com/results?search_query=F...</td>\n",
       "      <td>0</td>\n",
       "    </tr>\n",
       "    <tr>\n",
       "      <th>4</th>\n",
       "      <td>Black Panther</td>\n",
       "      <td>$1,346,913,161</td>\n",
       "      <td>2018</td>\n",
       "      <td>https://www.youtube.com/results?search_query=B...</td>\n",
       "      <td>0</td>\n",
       "    </tr>\n",
       "    <tr>\n",
       "      <th>...</th>\n",
       "      <td>...</td>\n",
       "      <td>...</td>\n",
       "      <td>...</td>\n",
       "      <td>...</td>\n",
       "      <td>...</td>\n",
       "    </tr>\n",
       "    <tr>\n",
       "      <th>3412</th>\n",
       "      <td>Green is Gold</td>\n",
       "      <td>$455</td>\n",
       "      <td>2016</td>\n",
       "      <td>https://www.youtube.com/results?search_query=G...</td>\n",
       "      <td>0</td>\n",
       "    </tr>\n",
       "    <tr>\n",
       "      <th>3413</th>\n",
       "      <td>Antiporno</td>\n",
       "      <td>$294</td>\n",
       "      <td>2017</td>\n",
       "      <td>https://www.youtube.com/results?search_query=A...</td>\n",
       "      <td>0</td>\n",
       "    </tr>\n",
       "    <tr>\n",
       "      <th>3414</th>\n",
       "      <td>Wet Woman in the Wind</td>\n",
       "      <td>$268</td>\n",
       "      <td>2017</td>\n",
       "      <td>https://www.youtube.com/results?search_query=W...</td>\n",
       "      <td>0</td>\n",
       "    </tr>\n",
       "    <tr>\n",
       "      <th>3415</th>\n",
       "      <td>Spaceship Earth</td>\n",
       "      <td>$201</td>\n",
       "      <td>2020</td>\n",
       "      <td>https://www.youtube.com/results?search_query=S...</td>\n",
       "      <td>0</td>\n",
       "    </tr>\n",
       "    <tr>\n",
       "      <th>3416</th>\n",
       "      <td>Savage</td>\n",
       "      <td>$175</td>\n",
       "      <td>2020</td>\n",
       "      <td>https://www.youtube.com/results?search_query=S...</td>\n",
       "      <td>0</td>\n",
       "    </tr>\n",
       "  </tbody>\n",
       "</table>\n",
       "<p>3417 rows × 5 columns</p>\n",
       "</div>"
      ],
      "text/plain": [
       "                        name       Worldwide  year  \\\n",
       "0          Avengers: Endgame  $2,797,800,564  2019   \n",
       "1     Avengers: Infinity War  $2,048,359,754  2018   \n",
       "2              The Lion King  $1,656,943,394  2019   \n",
       "3                  Frozen II  $1,450,026,933  2019   \n",
       "4              Black Panther  $1,346,913,161  2018   \n",
       "...                      ...             ...   ...   \n",
       "3412           Green is Gold            $455  2016   \n",
       "3413               Antiporno            $294  2017   \n",
       "3414   Wet Woman in the Wind            $268  2017   \n",
       "3415         Spaceship Earth            $201  2020   \n",
       "3416                  Savage            $175  2020   \n",
       "\n",
       "                                                trailer  watched  \n",
       "0     https://www.youtube.com/results?search_query=A...        0  \n",
       "1     https://www.youtube.com/results?search_query=A...        0  \n",
       "2     https://www.youtube.com/results?search_query=T...        0  \n",
       "3     https://www.youtube.com/results?search_query=F...        0  \n",
       "4     https://www.youtube.com/results?search_query=B...        0  \n",
       "...                                                 ...      ...  \n",
       "3412  https://www.youtube.com/results?search_query=G...        0  \n",
       "3413  https://www.youtube.com/results?search_query=A...        0  \n",
       "3414  https://www.youtube.com/results?search_query=W...        0  \n",
       "3415  https://www.youtube.com/results?search_query=S...        0  \n",
       "3416  https://www.youtube.com/results?search_query=S...        0  \n",
       "\n",
       "[3417 rows x 5 columns]"
      ]
     },
     "execution_count": 75,
     "metadata": {},
     "output_type": "execute_result"
    }
   ],
   "source": [
    "dfnum"
   ]
  },
  {
   "cell_type": "code",
   "execution_count": 76,
   "metadata": {},
   "outputs": [],
   "source": [
    "df.to_csv('movies(2016-2020).csv',index=False)"
   ]
  },
  {
   "cell_type": "code",
   "execution_count": 100,
   "metadata": {},
   "outputs": [],
   "source": [
    "def get_suggested_movies(num=25):\n",
    "    df = pd.read_csv(\"movies(2016-2020).csv\")\n",
    "    df =  df[df['watched']=='0'][:num]\n",
    "    names = list(df['name'])\n",
    "    trailer = list(df['trailer'])\n",
    "    \n",
    "    for i in range(len(df)):\n",
    "        print(i+1,\" - \",names[i],\"\\n\",trailer[i],end=\"\\n\\n\",sep=\"\")\n"
   ]
  },
  {
   "cell_type": "code",
   "execution_count": 102,
   "metadata": {},
   "outputs": [
    {
     "name": "stdout",
     "output_type": "stream",
     "text": [
      "1 - Avengers: Endgame\n",
      "https://www.youtube.com/results?search_query=Avengers:+Endgame+trailer&page=&utm_source=opensearch\n",
      "\n",
      "2 - Avengers: Infinity War\n",
      "https://www.youtube.com/results?search_query=Avengers:+Infinity+War+trailer&page=&utm_source=opensearch\n",
      "\n",
      "3 - The Lion King\n",
      "https://www.youtube.com/results?search_query=The+Lion+King+trailer&page=&utm_source=opensearch\n",
      "\n",
      "4 - Frozen II\n",
      "https://www.youtube.com/results?search_query=Frozen+II+trailer&page=&utm_source=opensearch\n",
      "\n"
     ]
    }
   ],
   "source": [
    "# before making the first three movies as watched\n",
    "get_suggested_movies(4)"
   ]
  },
  {
   "cell_type": "code",
   "execution_count": 103,
   "metadata": {},
   "outputs": [
    {
     "name": "stdout",
     "output_type": "stream",
     "text": [
      "1 - Frozen II\n",
      "https://www.youtube.com/results?search_query=Frozen+II+trailer&page=&utm_source=opensearch\n",
      "\n",
      "2 - Black Panther\n",
      "https://www.youtube.com/results?search_query=Black+Panther+trailer&page=&utm_source=opensearch\n",
      "\n",
      "3 - Star Wars: Episode VIII - The Last Jedi\n",
      "https://www.youtube.com/results?search_query=Star+Wars:+Episode+VIII+-+The+Last+Jedi+trailer&page=&utm_source=opensearch\n",
      "\n",
      "4 - Jurassic World: Fallen Kingdom\n",
      "https://www.youtube.com/results?search_query=Jurassic+World:+Fallen+Kingdom+trailer&page=&utm_source=opensearch\n",
      "\n"
     ]
    }
   ],
   "source": [
    "# after making them watched\n",
    "get_suggested_movies(4)"
   ]
  },
  {
   "cell_type": "code",
   "execution_count": null,
   "metadata": {},
   "outputs": [],
   "source": []
  }
 ],
 "metadata": {
  "kernelspec": {
   "display_name": "Python 3",
   "language": "python",
   "name": "python3"
  },
  "language_info": {
   "codemirror_mode": {
    "name": "ipython",
    "version": 3
   },
   "file_extension": ".py",
   "mimetype": "text/x-python",
   "name": "python",
   "nbconvert_exporter": "python",
   "pygments_lexer": "ipython3",
   "version": "3.6.9"
  }
 },
 "nbformat": 4,
 "nbformat_minor": 4
}
